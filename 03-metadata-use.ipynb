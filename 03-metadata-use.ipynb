{
 "cells": [
  {
   "cell_type": "markdown",
   "id": "a88d095e",
   "metadata": {},
   "source": [
    "# 3. Making use of Metadata\n",
    "We often have more than just the text. What can we do with the metadata?"
   ]
  },
  {
   "cell_type": "code",
   "execution_count": 1,
   "id": "33389e93",
   "metadata": {},
   "outputs": [],
   "source": [
    "import pandas as pd\n",
    "import seaborn as sns"
   ]
  },
  {
   "cell_type": "code",
   "execution_count": 2,
   "id": "55179d88",
   "metadata": {},
   "outputs": [
    {
     "data": {
      "text/html": [
       "<div>\n",
       "<style scoped>\n",
       "    .dataframe tbody tr th:only-of-type {\n",
       "        vertical-align: middle;\n",
       "    }\n",
       "\n",
       "    .dataframe tbody tr th {\n",
       "        vertical-align: top;\n",
       "    }\n",
       "\n",
       "    .dataframe thead th {\n",
       "        text-align: right;\n",
       "    }\n",
       "</style>\n",
       "<table border=\"1\" class=\"dataframe\">\n",
       "  <thead>\n",
       "    <tr style=\"text-align: right;\">\n",
       "      <th></th>\n",
       "      <th>review_id</th>\n",
       "      <th>product_id</th>\n",
       "      <th>reviewer_id</th>\n",
       "      <th>stars</th>\n",
       "      <th>review_body</th>\n",
       "      <th>review_title</th>\n",
       "      <th>language</th>\n",
       "      <th>product_category</th>\n",
       "    </tr>\n",
       "  </thead>\n",
       "  <tbody>\n",
       "    <tr>\n",
       "      <th>194528</th>\n",
       "      <td>en_0211326</td>\n",
       "      <td>product_en_0085402</td>\n",
       "      <td>reviewer_en_0422986</td>\n",
       "      <td>5</td>\n",
       "      <td>For the IT specialist of a certain age. Don't ...</td>\n",
       "      <td>Irresistible</td>\n",
       "      <td>en</td>\n",
       "      <td>apparel</td>\n",
       "    </tr>\n",
       "    <tr>\n",
       "      <th>43677</th>\n",
       "      <td>en_0413148</td>\n",
       "      <td>product_en_0517672</td>\n",
       "      <td>reviewer_en_0204911</td>\n",
       "      <td>2</td>\n",
       "      <td>I replaced the clamp with a screw and it works...</td>\n",
       "      <td>The clamp is garbage</td>\n",
       "      <td>en</td>\n",
       "      <td>sports</td>\n",
       "    </tr>\n",
       "    <tr>\n",
       "      <th>111689</th>\n",
       "      <td>en_0722797</td>\n",
       "      <td>product_en_0875316</td>\n",
       "      <td>reviewer_en_0749063</td>\n",
       "      <td>3</td>\n",
       "      <td>I like how I can finally play my own music in ...</td>\n",
       "      <td>I like how I can finally play my own music in ...</td>\n",
       "      <td>en</td>\n",
       "      <td>wireless</td>\n",
       "    </tr>\n",
       "  </tbody>\n",
       "</table>\n",
       "</div>"
      ],
      "text/plain": [
       "         review_id          product_id          reviewer_id  stars  \\\n",
       "194528  en_0211326  product_en_0085402  reviewer_en_0422986      5   \n",
       "43677   en_0413148  product_en_0517672  reviewer_en_0204911      2   \n",
       "111689  en_0722797  product_en_0875316  reviewer_en_0749063      3   \n",
       "\n",
       "                                              review_body  \\\n",
       "194528  For the IT specialist of a certain age. Don't ...   \n",
       "43677   I replaced the clamp with a screw and it works...   \n",
       "111689  I like how I can finally play my own music in ...   \n",
       "\n",
       "                                             review_title language  \\\n",
       "194528                                       Irresistible       en   \n",
       "43677                                The clamp is garbage       en   \n",
       "111689  I like how I can finally play my own music in ...       en   \n",
       "\n",
       "       product_category  \n",
       "194528          apparel  \n",
       "43677            sports  \n",
       "111689         wireless  "
      ]
     },
     "execution_count": 2,
     "metadata": {},
     "output_type": "execute_result"
    }
   ],
   "source": [
    "reviews_df = pd.read_json('data/json/amazon_reviews.json', lines=True, encoding='utf-8') # to prevent error due to\n",
    "reviews_df.sample(3)"
   ]
  },
  {
   "cell_type": "markdown",
   "id": "10fc813d",
   "metadata": {},
   "source": [
    "Get statistics in case your data is quantitative."
   ]
  },
  {
   "cell_type": "code",
   "execution_count": 3,
   "id": "6dbc58e9",
   "metadata": {},
   "outputs": [
    {
     "data": {
      "text/html": [
       "<div>\n",
       "<style scoped>\n",
       "    .dataframe tbody tr th:only-of-type {\n",
       "        vertical-align: middle;\n",
       "    }\n",
       "\n",
       "    .dataframe tbody tr th {\n",
       "        vertical-align: top;\n",
       "    }\n",
       "\n",
       "    .dataframe thead th {\n",
       "        text-align: right;\n",
       "    }\n",
       "</style>\n",
       "<table border=\"1\" class=\"dataframe\">\n",
       "  <thead>\n",
       "    <tr style=\"text-align: right;\">\n",
       "      <th></th>\n",
       "      <th>stars</th>\n",
       "    </tr>\n",
       "  </thead>\n",
       "  <tbody>\n",
       "    <tr>\n",
       "      <th>count</th>\n",
       "      <td>200000.000000</td>\n",
       "    </tr>\n",
       "    <tr>\n",
       "      <th>mean</th>\n",
       "      <td>3.000000</td>\n",
       "    </tr>\n",
       "    <tr>\n",
       "      <th>std</th>\n",
       "      <td>1.414217</td>\n",
       "    </tr>\n",
       "    <tr>\n",
       "      <th>min</th>\n",
       "      <td>1.000000</td>\n",
       "    </tr>\n",
       "    <tr>\n",
       "      <th>25%</th>\n",
       "      <td>2.000000</td>\n",
       "    </tr>\n",
       "    <tr>\n",
       "      <th>50%</th>\n",
       "      <td>3.000000</td>\n",
       "    </tr>\n",
       "    <tr>\n",
       "      <th>75%</th>\n",
       "      <td>4.000000</td>\n",
       "    </tr>\n",
       "    <tr>\n",
       "      <th>max</th>\n",
       "      <td>5.000000</td>\n",
       "    </tr>\n",
       "  </tbody>\n",
       "</table>\n",
       "</div>"
      ],
      "text/plain": [
       "               stars\n",
       "count  200000.000000\n",
       "mean        3.000000\n",
       "std         1.414217\n",
       "min         1.000000\n",
       "25%         2.000000\n",
       "50%         3.000000\n",
       "75%         4.000000\n",
       "max         5.000000"
      ]
     },
     "execution_count": 3,
     "metadata": {},
     "output_type": "execute_result"
    }
   ],
   "source": [
    "reviews_df.describe()"
   ]
  },
  {
   "cell_type": "markdown",
   "id": "a3af633a",
   "metadata": {},
   "source": [
    "## Choose one product category\n",
    "Let's focus on reviews of one product category."
   ]
  },
  {
   "cell_type": "code",
   "execution_count": 4,
   "id": "51cd54c7",
   "metadata": {},
   "outputs": [
    {
     "data": {
      "text/html": [
       "<div>\n",
       "<style scoped>\n",
       "    .dataframe tbody tr th:only-of-type {\n",
       "        vertical-align: middle;\n",
       "    }\n",
       "\n",
       "    .dataframe tbody tr th {\n",
       "        vertical-align: top;\n",
       "    }\n",
       "\n",
       "    .dataframe thead th {\n",
       "        text-align: right;\n",
       "    }\n",
       "</style>\n",
       "<table border=\"1\" class=\"dataframe\">\n",
       "  <thead>\n",
       "    <tr style=\"text-align: right;\">\n",
       "      <th></th>\n",
       "      <th>review_id</th>\n",
       "      <th>product_id</th>\n",
       "      <th>reviewer_id</th>\n",
       "      <th>stars</th>\n",
       "      <th>review_body</th>\n",
       "      <th>review_title</th>\n",
       "      <th>language</th>\n",
       "      <th>product_category</th>\n",
       "    </tr>\n",
       "  </thead>\n",
       "  <tbody>\n",
       "    <tr>\n",
       "      <th>150936</th>\n",
       "      <td>en_0312775</td>\n",
       "      <td>product_en_0148830</td>\n",
       "      <td>reviewer_en_0274613</td>\n",
       "      <td>4</td>\n",
       "      <td>Just what I wanted do everything it says it do...</td>\n",
       "      <td>It works as it says it dose</td>\n",
       "      <td>en</td>\n",
       "      <td>camera</td>\n",
       "    </tr>\n",
       "    <tr>\n",
       "      <th>139316</th>\n",
       "      <td>en_0897148</td>\n",
       "      <td>product_en_0104029</td>\n",
       "      <td>reviewer_en_0859633</td>\n",
       "      <td>4</td>\n",
       "      <td>These have plastic bases but are surviving so ...</td>\n",
       "      <td>Using on Arlo Pro camera</td>\n",
       "      <td>en</td>\n",
       "      <td>camera</td>\n",
       "    </tr>\n",
       "    <tr>\n",
       "      <th>126480</th>\n",
       "      <td>en_0481027</td>\n",
       "      <td>product_en_0578464</td>\n",
       "      <td>reviewer_en_0505108</td>\n",
       "      <td>4</td>\n",
       "      <td>I love this lens! I'm sure it won't last long ...</td>\n",
       "      <td>Great lens for the price</td>\n",
       "      <td>en</td>\n",
       "      <td>camera</td>\n",
       "    </tr>\n",
       "  </tbody>\n",
       "</table>\n",
       "</div>"
      ],
      "text/plain": [
       "         review_id          product_id          reviewer_id  stars  \\\n",
       "150936  en_0312775  product_en_0148830  reviewer_en_0274613      4   \n",
       "139316  en_0897148  product_en_0104029  reviewer_en_0859633      4   \n",
       "126480  en_0481027  product_en_0578464  reviewer_en_0505108      4   \n",
       "\n",
       "                                              review_body  \\\n",
       "150936  Just what I wanted do everything it says it do...   \n",
       "139316  These have plastic bases but are surviving so ...   \n",
       "126480  I love this lens! I'm sure it won't last long ...   \n",
       "\n",
       "                       review_title language product_category  \n",
       "150936  It works as it says it dose       en           camera  \n",
       "139316     Using on Arlo Pro camera       en           camera  \n",
       "126480     Great lens for the price       en           camera  "
      ]
     },
     "execution_count": 4,
     "metadata": {},
     "output_type": "execute_result"
    }
   ],
   "source": [
    "cameras_df = reviews_df[reviews_df['product_category'] == 'camera']\n",
    "cameras_df.sample(3)"
   ]
  },
  {
   "cell_type": "code",
   "execution_count": 5,
   "id": "ef15c3a0",
   "metadata": {},
   "outputs": [
    {
     "data": {
      "text/html": [
       "<div>\n",
       "<style scoped>\n",
       "    .dataframe tbody tr th:only-of-type {\n",
       "        vertical-align: middle;\n",
       "    }\n",
       "\n",
       "    .dataframe tbody tr th {\n",
       "        vertical-align: top;\n",
       "    }\n",
       "\n",
       "    .dataframe thead th {\n",
       "        text-align: right;\n",
       "    }\n",
       "</style>\n",
       "<table border=\"1\" class=\"dataframe\">\n",
       "  <thead>\n",
       "    <tr style=\"text-align: right;\">\n",
       "      <th></th>\n",
       "      <th>stars</th>\n",
       "    </tr>\n",
       "  </thead>\n",
       "  <tbody>\n",
       "    <tr>\n",
       "      <th>count</th>\n",
       "      <td>2139.000000</td>\n",
       "    </tr>\n",
       "    <tr>\n",
       "      <th>mean</th>\n",
       "      <td>3.002338</td>\n",
       "    </tr>\n",
       "    <tr>\n",
       "      <th>std</th>\n",
       "      <td>1.461861</td>\n",
       "    </tr>\n",
       "    <tr>\n",
       "      <th>min</th>\n",
       "      <td>1.000000</td>\n",
       "    </tr>\n",
       "    <tr>\n",
       "      <th>25%</th>\n",
       "      <td>2.000000</td>\n",
       "    </tr>\n",
       "    <tr>\n",
       "      <th>50%</th>\n",
       "      <td>3.000000</td>\n",
       "    </tr>\n",
       "    <tr>\n",
       "      <th>75%</th>\n",
       "      <td>4.000000</td>\n",
       "    </tr>\n",
       "    <tr>\n",
       "      <th>max</th>\n",
       "      <td>5.000000</td>\n",
       "    </tr>\n",
       "  </tbody>\n",
       "</table>\n",
       "</div>"
      ],
      "text/plain": [
       "             stars\n",
       "count  2139.000000\n",
       "mean      3.002338\n",
       "std       1.461861\n",
       "min       1.000000\n",
       "25%       2.000000\n",
       "50%       3.000000\n",
       "75%       4.000000\n",
       "max       5.000000"
      ]
     },
     "execution_count": 5,
     "metadata": {},
     "output_type": "execute_result"
    }
   ],
   "source": [
    "cameras_df.describe()"
   ]
  },
  {
   "cell_type": "code",
   "execution_count": 6,
   "id": "1c7aaccf",
   "metadata": {},
   "outputs": [
    {
     "name": "stdout",
     "output_type": "stream",
     "text": [
      "2139 1956\n"
     ]
    }
   ],
   "source": [
    "cameras_list = list(cameras_df['product_id'])\n",
    "cameras_list_unique = set(cameras_list)\n",
    "print(len(cameras_list), len(cameras_list_unique))"
   ]
  },
  {
   "cell_type": "code",
   "execution_count": 7,
   "id": "243129e0",
   "metadata": {},
   "outputs": [],
   "source": [
    "from collections import Counter\n",
    "cameras_count = Counter(cameras_list)"
   ]
  },
  {
   "cell_type": "markdown",
   "id": "b2b1603c",
   "metadata": {},
   "source": [
    "# Exercise\n",
    "Examine reviews with high ratings and reviews with low ratings. Do you see any differences? Use techniques from the <a href=\"./intro-python/02-reading-text-files.ipynb\" target=\"_blank\">previous Notebook</a>.\n"
   ]
  },
  {
   "cell_type": "code",
   "execution_count": 8,
   "id": "9f0e0f6e",
   "metadata": {},
   "outputs": [],
   "source": [
    "# Hint: get the list of camera reviews by the following command:\n",
    "camera_reviews_text = cameras_df['review_body'].tolist()"
   ]
  },
  {
   "cell_type": "code",
   "execution_count": null,
   "id": "0f889684",
   "metadata": {},
   "outputs": [],
   "source": []
  }
 ],
 "metadata": {
  "kernelspec": {
   "display_name": "Python 3 (ipykernel)",
   "language": "python",
   "name": "python3"
  },
  "language_info": {
   "codemirror_mode": {
    "name": "ipython",
    "version": 3
   },
   "file_extension": ".py",
   "mimetype": "text/x-python",
   "name": "python",
   "nbconvert_exporter": "python",
   "pygments_lexer": "ipython3",
   "version": "3.9.4"
  }
 },
 "nbformat": 4,
 "nbformat_minor": 5
}
